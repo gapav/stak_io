{
 "cells": [
  {
   "cell_type": "code",
   "execution_count": null,
   "metadata": {},
   "outputs": [
    {
     "name": "stderr",
     "output_type": "stream",
     "text": [
      "I0000 00:00:1735159076.009135  299509 gl_context.cc:369] GL version: 2.1 (2.1 ATI-6.1.13), renderer: AMD Radeon Pro 5300M OpenGL Engine\n",
      "W0000 00:00:1735159076.211782  313547 inference_feedback_manager.cc:114] Feedback manager requires a model with a single signature inference. Disabling support for feedback tensors.\n",
      "W0000 00:00:1735159076.257774  313547 inference_feedback_manager.cc:114] Feedback manager requires a model with a single signature inference. Disabling support for feedback tensors.\n"
     ]
    }
   ],
   "source": [
    "import cv2\n",
    "import mediapipe as mp\n",
    "\n",
    "# MediaPipe setup\n",
    "mp_drawing = mp.solutions.drawing_utils\n",
    "mp_pose = mp.solutions.pose\n",
    "\n",
    "def setup_video(video_file_path: str, frames_per_second: int):\n",
    "    \"\"\"Set up video capture and writer.\"\"\"\n",
    "    cap = cv2.VideoCapture(video_file_path)\n",
    "    video_fps = cap.get(cv2.CAP_PROP_FPS)\n",
    "    frame_interval = int(video_fps / frames_per_second)\n",
    "    frame_width = int(cap.get(3))\n",
    "    frame_height = int(cap.get(4))\n",
    "    # Change FourCC code to 'mp4v' (lowercase)\n",
    "    out = cv2.VideoWriter('output.mp4', cv2.VideoWriter_fourcc(*'mp4v'), frames_per_second, (frame_width, frame_height))\n",
    "    return cap, out, frame_interval\n",
    "\n",
    "def process_frame(frame, pose):\n",
    "    \"\"\"Process a single frame.\"\"\"\n",
    "    frame_rgb = cv2.cvtColor(frame, cv2.COLOR_BGR2RGB)\n",
    "    results = pose.process(frame_rgb)\n",
    "    annotated_frame = cv2.cvtColor(frame, cv2.COLOR_RGB2BGR)\n",
    "    if results.pose_landmarks:\n",
    "        mp_drawing.draw_landmarks(\n",
    "            annotated_frame, results.pose_landmarks, mp_pose.POSE_CONNECTIONS,\n",
    "            landmark_drawing_spec=mp_drawing.DrawingSpec(color=(245,117,66), thickness=2, circle_radius=2),\n",
    "            connection_drawing_spec=mp_drawing.DrawingSpec(color=(245,66,230), thickness=2, circle_radius=2))\n",
    "    return annotated_frame\n",
    "\n",
    "def main_video_processing(video_file_path: str, frames_per_second: int = 4):\n",
    "    \"\"\"Main processing loop.\"\"\"\n",
    "    cap, out, frame_interval = setup_video(video_file_path, frames_per_second)\n",
    "    frame_count = 0\n",
    "\n",
    "    with mp_pose.Pose(min_detection_confidence=0.5, min_tracking_confidence=0.5) as pose:\n",
    "        while cap.isOpened():\n",
    "            ret, frame = cap.read()\n",
    "            if not ret:\n",
    "                break\n",
    "            if frame_count % frame_interval == 0:\n",
    "                annotated_frame = process_frame(frame, pose)\n",
    "                out.write(annotated_frame)\n",
    "            frame_count += 1\n",
    "\n",
    "    cap.release()\n",
    "    out.release()\n",
    "\n",
    "\n",
    "\n",
    "video_path = '/Users/gardpavels/code/stak_io/stak_io/notebooks/test_media/stak_test.mov'\n",
    "\n",
    "main_video_processing(video_path)\n",
    "\n",
    "\n"
   ]
  }
 ],
 "metadata": {
  "kernelspec": {
   "display_name": "stak-io-bJgGE-xw-py3.9",
   "language": "python",
   "name": "python3"
  },
  "language_info": {
   "codemirror_mode": {
    "name": "ipython",
    "version": 3
   },
   "file_extension": ".py",
   "mimetype": "text/x-python",
   "name": "python",
   "nbconvert_exporter": "python",
   "pygments_lexer": "ipython3",
   "version": "3.9.19"
  }
 },
 "nbformat": 4,
 "nbformat_minor": 2
}
